{
 "cells": [
  {
   "cell_type": "code",
   "execution_count": 1,
   "id": "f2a29a7a",
   "metadata": {},
   "outputs": [],
   "source": [
    "import matplotlib.pyplot as plt\n",
    "import numpy as np\n",
    "import scipy.io as sio\n",
    "#from scipy.optimize import minimizeini"
   ]
  },
  {
   "cell_type": "code",
   "execution_count": 2,
   "id": "92f8bb0a",
   "metadata": {},
   "outputs": [],
   "source": [
    "data = sio.loadmat(\"ex4data1.mat\")\n",
    "raw_X = data['X']\n",
    "raw_y = data['y']"
   ]
  },
  {
   "cell_type": "code",
   "execution_count": 3,
   "id": "4a5722df",
   "metadata": {
    "scrolled": true
   },
   "outputs": [],
   "source": [
    "#将值为1的列插入到数组的第一列，用于向量计算时乘偏置项b\n",
    "X = np.insert(raw_X,0,values=1,axis=1)"
   ]
  },
  {
   "cell_type": "code",
   "execution_count": 4,
   "id": "f6f69216",
   "metadata": {},
   "outputs": [
    {
     "data": {
      "text/plain": [
       "(5000, 401)"
      ]
     },
     "execution_count": 4,
     "metadata": {},
     "output_type": "execute_result"
    }
   ],
   "source": [
    "X.shape"
   ]
  },
  {
   "cell_type": "code",
   "execution_count": 5,
   "id": "e9e0fcbb",
   "metadata": {},
   "outputs": [
    {
     "data": {
      "text/plain": [
       "array([[10],\n",
       "       [10],\n",
       "       [10],\n",
       "       ...,\n",
       "       [ 9],\n",
       "       [ 9],\n",
       "       [ 9]], dtype=uint8)"
      ]
     },
     "execution_count": 5,
     "metadata": {},
     "output_type": "execute_result"
    }
   ],
   "source": [
    "raw_y"
   ]
  },
  {
   "cell_type": "markdown",
   "id": "1268d6e1",
   "metadata": {},
   "source": [
    "## 1.对y进行one-hot编码处理"
   ]
  },
  {
   "cell_type": "code",
   "execution_count": 6,
   "id": "e28fcb2a",
   "metadata": {},
   "outputs": [],
   "source": [
    "#这个函数遍历原始的标签数组 raw_y\n",
    "#对于每一个标签 i，创建一个长度为10的全零数组 y_temp，然后将 y_temp 的第 i-1 个位置设置为1，表示对应的标签。\n",
    "def one_hot_encoder(raw_y):\n",
    "    result = []\n",
    "    for i in raw_y:\n",
    "        y_temp = np.zeros(10)\n",
    "        y_temp[i-1] = 1\n",
    "        result.append(y_temp)\n",
    "    return np.array(result)"
   ]
  },
  {
   "cell_type": "code",
   "execution_count": 7,
   "id": "58f114cc",
   "metadata": {},
   "outputs": [],
   "source": [
    "y = one_hot_encoder(raw_y)"
   ]
  },
  {
   "cell_type": "markdown",
   "id": "ee7e4c49",
   "metadata": {},
   "source": [
    "### y现在一行只有1和0两个数字，1所在的位置代表对应的数字"
   ]
  },
  {
   "cell_type": "code",
   "execution_count": 8,
   "id": "54ce5a5b",
   "metadata": {},
   "outputs": [
    {
     "data": {
      "text/plain": [
       "array([[0., 0., 0., ..., 0., 0., 1.],\n",
       "       [0., 0., 0., ..., 0., 0., 1.],\n",
       "       [0., 0., 0., ..., 0., 0., 1.],\n",
       "       ...,\n",
       "       [0., 0., 0., ..., 0., 1., 0.],\n",
       "       [0., 0., 0., ..., 0., 1., 0.],\n",
       "       [0., 0., 0., ..., 0., 1., 0.]])"
      ]
     },
     "execution_count": 8,
     "metadata": {},
     "output_type": "execute_result"
    }
   ],
   "source": [
    "y"
   ]
  },
  {
   "cell_type": "code",
   "execution_count": 9,
   "id": "9a3034a8",
   "metadata": {},
   "outputs": [
    {
     "data": {
      "text/plain": [
       "(5000, 10)"
      ]
     },
     "execution_count": 9,
     "metadata": {},
     "output_type": "execute_result"
    }
   ],
   "source": [
    "y.shape"
   ]
  },
  {
   "cell_type": "markdown",
   "id": "932edb56",
   "metadata": {},
   "source": [
    "## 2.序列化权重参数"
   ]
  },
  {
   "cell_type": "code",
   "execution_count": 10,
   "id": "51b5866a",
   "metadata": {},
   "outputs": [],
   "source": [
    "theta = sio.loadmat(\"ex4weights.mat\")\n",
    "theta1,theta2 = theta['Theta1'],theta['Theta2']"
   ]
  },
  {
   "cell_type": "code",
   "execution_count": 11,
   "id": "a757f451",
   "metadata": {
    "scrolled": true
   },
   "outputs": [
    {
     "data": {
      "text/plain": [
       "(array([[-2.25623899e-02, -1.05624163e-08,  2.19414684e-09, ...,\n",
       "         -1.30529929e-05, -5.04175101e-06,  2.80464449e-09],\n",
       "        [-9.83811294e-02,  7.66168682e-09, -9.75873689e-09, ...,\n",
       "         -5.60134007e-05,  2.00940969e-07,  3.54422854e-09],\n",
       "        [ 1.16156052e-01, -8.77654466e-09,  8.16037764e-09, ...,\n",
       "         -1.20951657e-04, -2.33669661e-06, -7.50668099e-09],\n",
       "        ...,\n",
       "        [-1.83220638e-01, -8.89272060e-09, -9.81968100e-09, ...,\n",
       "          2.35311186e-05, -3.25484493e-06,  9.02499060e-09],\n",
       "        [-7.02096331e-01,  3.05178374e-10,  2.56061008e-09, ...,\n",
       "         -8.61759744e-04,  9.43449909e-05,  3.83761998e-09],\n",
       "        [-3.50933229e-01,  8.85876862e-09, -6.57515140e-10, ...,\n",
       "         -1.80365926e-06, -8.14464807e-06,  8.79454531e-09]]),\n",
       " array([[-0.76100352, -1.21244498, -0.10187131, -2.36850085, -1.05778129,\n",
       "         -2.20823629,  0.56383834,  1.21105294,  2.21030997,  0.44456156,\n",
       "         -1.18244872,  1.04289112, -1.60558756,  1.30419943,  1.37175046,\n",
       "          1.74825095, -0.23365648, -1.52014483,  1.15324176,  0.10368082,\n",
       "         -0.37207719, -0.61530019, -0.1256836 , -2.27193038, -0.71836208,\n",
       "         -1.29690315],\n",
       "        [-0.61785176,  0.61559207, -1.26550639,  1.85745418, -0.91853319,\n",
       "         -0.05502589, -0.38589806,  1.29520853, -1.56843297, -0.97026419,\n",
       "         -2.18334895, -2.85033578, -2.07733086,  1.63163164,  0.3490229 ,\n",
       "          1.82789117, -2.44174379, -0.8563034 , -0.2982564 , -2.07947873,\n",
       "         -1.2933238 ,  0.89982032,  0.28306578,  2.31180525, -2.46444086,\n",
       "          1.45656548],\n",
       "        [-0.68934072, -1.94538151,  2.01360618, -3.12316188, -0.2361763 ,\n",
       "          1.38680947,  0.90982429, -1.54774416, -0.79830896, -0.65599834,\n",
       "          0.7353833 , -2.58593294,  0.47210839,  0.55349499,  2.51255453,\n",
       "         -2.4167454 , -1.63898627,  1.2027302 , -1.20245851, -1.83445959,\n",
       "         -1.88013027, -0.34056098,  0.23692483, -1.06137919,  1.02759232,\n",
       "         -0.47690832],\n",
       "        [-0.67832479,  0.46299226,  0.58492321, -0.1650184 ,  1.93264192,\n",
       "         -0.22965765, -1.84731492,  0.49011768,  1.07146054, -3.31905643,\n",
       "          1.54113507,  0.37371947, -0.86484681, -2.58273522,  0.97062447,\n",
       "         -0.51021867, -0.68427897, -1.64713607,  0.21153145, -0.27422442,\n",
       "          1.72599755,  1.32418658, -2.63984479, -0.08055871, -2.03510803,\n",
       "         -1.46123776],\n",
       "        [-0.59664339, -2.04481799,  2.05698407,  1.95100909,  0.17637699,\n",
       "         -2.16141218, -0.40394736,  1.80157532, -1.56278739, -0.25253004,\n",
       "          0.23586497,  0.71656699,  1.07689092, -0.35457279, -1.67743058,\n",
       "         -0.12939255, -0.67488849,  1.14066535,  1.32431237,  3.21158484,\n",
       "         -2.15888898, -2.60164082, -3.2226466 , -1.89612906, -0.87488068,\n",
       "          2.51038628],\n",
       "        [-0.87794907,  0.4344112 , -0.93161049,  0.18390778, -0.36078216,\n",
       "          0.61958137,  0.38624948, -2.65150343,  2.29710773, -2.08818098,\n",
       "         -1.86382323,  1.06057836,  0.77562146,  2.1346861 , -1.14973702,\n",
       "         -0.52081426,  0.99743429, -1.48309353, -2.3139424 ,  0.29517333,\n",
       "         -0.38704879, -2.20607697,  0.30702191, -1.17646114, -1.63462966,\n",
       "         -0.82467661],\n",
       "        [-0.52746527,  1.21564288, -1.50095981, -2.03195359, -1.52366734,\n",
       "         -2.43732079, -2.37570311, -1.39987277, -0.88735315, -0.63278873,\n",
       "          1.50450176, -1.580763  ,  0.58599217, -0.77540416,  0.94257331,\n",
       "          2.10919653,  0.54479132,  0.43773612, -1.28024228, -0.04360994,\n",
       "          1.4774997 , -1.13276949, -0.72846904,  0.04734716,  1.6574566 ,\n",
       "          1.68540944],\n",
       "        [-0.7490154 , -0.72249056, -3.15228173,  0.36577778,  0.19811362,\n",
       "         -0.73059946,  1.65263918, -2.300357  , -1.87468162,  0.98095387,\n",
       "         -1.58825159,  1.35434142,  2.17895331, -1.99239762, -2.00371362,\n",
       "         -0.388613  , -2.33992976, -2.91719062,  0.99398645, -2.70476768,\n",
       "         -1.27139772,  1.86091461, -1.20519404, -0.38014194,  0.7087181 ,\n",
       "         -2.11014003],\n",
       "        [-0.6665468 ,  0.53601845,  1.30307573, -1.03372714, -4.03084753,\n",
       "          0.58173469, -2.65717902,  0.80379994, -1.09241928,  2.49910058,\n",
       "          0.362008  ,  0.66195337, -0.92160534, -0.83123666, -2.00200952,\n",
       "         -2.94897501,  0.64564202, -1.10114694,  0.74510309,  0.58506717,\n",
       "         -1.99545251,  0.62591105,  1.80596103, -0.22309315, -1.40442136,\n",
       "         -2.1319153 ],\n",
       "        [-0.46089119, -1.43944954, -1.21809509,  0.71093011,  0.45216919,\n",
       "         -0.35953381,  0.62284954, -0.67005297, -0.7069138 ,  0.06311351,\n",
       "         -1.23199074, -1.74645233, -2.71960897, -2.21437178, -1.69307505,\n",
       "         -0.90927394,  0.87852311,  1.18664814, -1.87041262,  0.39796295,\n",
       "          1.72113872, -1.36934055,  0.8580668 , -0.24779579,  1.28009118,\n",
       "         -1.32752042]]))"
      ]
     },
     "execution_count": 11,
     "metadata": {},
     "output_type": "execute_result"
    }
   ],
   "source": [
    "theta1,theta2"
   ]
  },
  {
   "cell_type": "code",
   "execution_count": 12,
   "id": "c1605e89",
   "metadata": {},
   "outputs": [
    {
     "data": {
      "text/plain": [
       "((25, 401), (10, 26))"
      ]
     },
     "execution_count": 12,
     "metadata": {},
     "output_type": "execute_result"
    }
   ],
   "source": [
    "theta1.shape,theta2.shape"
   ]
  },
  {
   "cell_type": "markdown",
   "id": "617b3bbd",
   "metadata": {},
   "source": [
    "### 这个函数是一个序列化函数，它用于将两个数组 a 和 b 扁平化后进行串联，返回一个串联后的一维数组。"
   ]
  },
  {
   "cell_type": "code",
   "execution_count": 13,
   "id": "c41323cb",
   "metadata": {},
   "outputs": [],
   "source": [
    "def serialize(a,b):\n",
    "    return np.append(a.flatten(),b.flatten())"
   ]
  },
  {
   "cell_type": "code",
   "execution_count": 14,
   "id": "40f3a7f8",
   "metadata": {},
   "outputs": [
    {
     "data": {
      "text/plain": [
       "(10285,)"
      ]
     },
     "execution_count": 14,
     "metadata": {},
     "output_type": "execute_result"
    }
   ],
   "source": [
    "theta_serialize = serialize(theta1,theta2)\n",
    "theta_serialize.shape"
   ]
  },
  {
   "cell_type": "markdown",
   "id": "945aa705",
   "metadata": {},
   "source": [
    "## 3.解序列化操作"
   ]
  },
  {
   "cell_type": "code",
   "execution_count": 15,
   "id": "eb64856e",
   "metadata": {},
   "outputs": [],
   "source": [
    "def deserialize(theta_serialize):\n",
    "    theta1 = theta_serialize[:25*401].reshape(25,401)\n",
    "    theta2 = theta_serialize[25*401:].reshape(10,26)\n",
    "    return theta1,theta2"
   ]
  },
  {
   "cell_type": "code",
   "execution_count": 16,
   "id": "443ca7b7",
   "metadata": {},
   "outputs": [],
   "source": [
    "theta1,theta2 = deserialize(theta_serialize)"
   ]
  },
  {
   "cell_type": "code",
   "execution_count": 17,
   "id": "11ee94cf",
   "metadata": {},
   "outputs": [
    {
     "data": {
      "text/plain": [
       "((25, 401), (10, 26))"
      ]
     },
     "execution_count": 17,
     "metadata": {},
     "output_type": "execute_result"
    }
   ],
   "source": [
    "theta1.shape,theta2.shape"
   ]
  },
  {
   "cell_type": "markdown",
   "id": "3ec62a2f",
   "metadata": {},
   "source": [
    "## 4.前向传播"
   ]
  },
  {
   "cell_type": "markdown",
   "id": "8210c295",
   "metadata": {},
   "source": [
    "> (400 + 1) -> (25 + 1) -> (10)\n",
    "\n",
    "<img style=\"float: left;\" src=\"../img/nn_model.png\">"
   ]
  },
  {
   "cell_type": "code",
   "execution_count": 18,
   "id": "51879f22",
   "metadata": {},
   "outputs": [],
   "source": [
    "def sigmod(z):\n",
    "    return 1/(1+np.exp(-z))"
   ]
  },
  {
   "cell_type": "code",
   "execution_count": 19,
   "id": "d38e8c9b",
   "metadata": {},
   "outputs": [],
   "source": [
    "def feed_forward(theta_serialize,X):\n",
    "    theta1,theta2 = deserialize(theta_serialize)\n",
    "    a1 = X\n",
    "    z2 = np.dot(a1,theta1.T)\n",
    "    a2 = sigmod(z2)\n",
    "    a2 = np.insert(a2,0,values=1,axis=1)\n",
    "    z3 = np.dot(a2,theta2.T)\n",
    "    h = sigmod(z3)\n",
    "    return a1,z2,a2,z3,h"
   ]
  },
  {
   "cell_type": "code",
   "execution_count": 20,
   "id": "d3b27be8",
   "metadata": {},
   "outputs": [],
   "source": [
    "a1,z2,a2,z3,h = feed_forward(theta_serialize,X)"
   ]
  },
  {
   "cell_type": "code",
   "execution_count": 21,
   "id": "a78d0eb8",
   "metadata": {},
   "outputs": [
    {
     "data": {
      "text/plain": [
       "array([[1.12661530e-04, 1.74127856e-03, 2.52696959e-03, ...,\n",
       "        4.01468105e-04, 6.48072305e-03, 9.95734012e-01],\n",
       "       [4.79026796e-04, 2.41495958e-03, 3.44755685e-03, ...,\n",
       "        2.39107046e-03, 1.97025086e-03, 9.95696931e-01],\n",
       "       [8.85702310e-05, 3.24266731e-03, 2.55419797e-02, ...,\n",
       "        6.22892325e-02, 5.49803551e-03, 9.28008397e-01],\n",
       "       ...,\n",
       "       [5.17641791e-02, 3.81715020e-03, 2.96297510e-02, ...,\n",
       "        2.15667361e-03, 6.49826950e-01, 2.42384687e-05],\n",
       "       [8.30631310e-04, 6.22003774e-04, 3.14518512e-04, ...,\n",
       "        1.19366192e-02, 9.71410499e-01, 2.06173648e-04],\n",
       "       [4.81465717e-05, 4.58821829e-04, 2.15146201e-05, ...,\n",
       "        5.73434571e-03, 6.96288990e-01, 8.18576980e-02]])"
      ]
     },
     "execution_count": 21,
     "metadata": {},
     "output_type": "execute_result"
    }
   ],
   "source": [
    "h"
   ]
  },
  {
   "cell_type": "code",
   "execution_count": 22,
   "id": "9f738076",
   "metadata": {},
   "outputs": [
    {
     "data": {
      "text/plain": [
       "(5000, 10)"
      ]
     },
     "execution_count": 22,
     "metadata": {},
     "output_type": "execute_result"
    }
   ],
   "source": [
    "h.shape"
   ]
  },
  {
   "cell_type": "markdown",
   "id": "25a6292c",
   "metadata": {},
   "source": [
    "## 5.损失函数"
   ]
  },
  {
   "cell_type": "markdown",
   "id": "6bc76ef3",
   "metadata": {},
   "source": [
    "<img style=\"float: left;\" src=\"../img/nn_cost.png\">"
   ]
  },
  {
   "cell_type": "markdown",
   "id": "f9298c6f",
   "metadata": {},
   "source": [
    "### 5-1.不带正则化的损失函数"
   ]
  },
  {
   "cell_type": "code",
   "execution_count": 23,
   "id": "aeaea02c",
   "metadata": {},
   "outputs": [],
   "source": [
    "def cost(theta_serialize,X,y):\n",
    "    a1,z2,a2,z3,h = feed_forward(theta_serialize,X)\n",
    "    J = -np.sum(y*np.log(h) + (1-y)*np.log(1-h))/len(X)\n",
    "    return J"
   ]
  },
  {
   "cell_type": "code",
   "execution_count": 24,
   "id": "4e0676a5",
   "metadata": {},
   "outputs": [],
   "source": [
    "J = cost(theta_serialize,X,y)"
   ]
  },
  {
   "cell_type": "code",
   "execution_count": 25,
   "id": "67b41ef3",
   "metadata": {},
   "outputs": [
    {
     "data": {
      "text/plain": [
       "0.2876291651613189"
      ]
     },
     "execution_count": 25,
     "metadata": {},
     "output_type": "execute_result"
    }
   ],
   "source": [
    "J"
   ]
  },
  {
   "cell_type": "markdown",
   "id": "7278afc2",
   "metadata": {},
   "source": [
    "### 5-1.带正则化的损失函数"
   ]
  },
  {
   "cell_type": "markdown",
   "id": "811168c6",
   "metadata": {},
   "source": [
    "<img style=\"float: left;\" src=\"../img/nn_regcost.png\">"
   ]
  },
  {
   "cell_type": "code",
   "execution_count": 26,
   "id": "0455bcf5",
   "metadata": {},
   "outputs": [],
   "source": [
    "def reg_cost(theta_serialize,X,y,lamda):\n",
    "    #忽略每个权重矩阵中的第一列，即偏置项b\n",
    "    #因为偏置项不会参与正则化。所以在代码中使用 theta1[:,1:] 和 theta2[:,1:] 分别表示去除了第一列的权重矩阵。\n",
    "    sum1 = np.sum(np.power(theta1[:,1:],2))\n",
    "    sum2 = np.sum(np.power(theta2[:,1:],2))\n",
    "    reg = (sum1 + sum2)*lamda / (2*len(X))\n",
    "    return cost(theta_serialize,X,y) + reg"
   ]
  },
  {
   "cell_type": "code",
   "execution_count": 27,
   "id": "47730f41",
   "metadata": {},
   "outputs": [
    {
     "data": {
      "text/plain": [
       "0.38376985909092365"
      ]
     },
     "execution_count": 27,
     "metadata": {},
     "output_type": "execute_result"
    }
   ],
   "source": [
    "reg_cost(theta_serialize,X,y,1)"
   ]
  },
  {
   "cell_type": "markdown",
   "id": "906a9317",
   "metadata": {},
   "source": [
    "## 6.反向传播"
   ]
  },
  {
   "cell_type": "markdown",
   "id": "82d198e4",
   "metadata": {},
   "source": [
    "### 6.1 无正则化的梯度"
   ]
  },
  {
   "cell_type": "code",
   "execution_count": 28,
   "id": "9e1305d4",
   "metadata": {},
   "outputs": [],
   "source": [
    "#对sigmoid函数进行求导计算的函数\n",
    "def gra_sigmoid(z):\n",
    "    return sigmod(z)*(1-sigmod(z))"
   ]
  },
  {
   "cell_type": "markdown",
   "id": "80cf5023",
   "metadata": {},
   "source": []
  },
  {
   "cell_type": "code",
   "execution_count": 29,
   "id": "ba1a81ac",
   "metadata": {},
   "outputs": [],
   "source": [
    "def gradient(theta_serialize,X,y):\n",
    "    theta1,theta2 = deserialize(theta_serialize)\n",
    "    a1,z2,a2,z3,h = feed_forward(theta_serialize,X)\n",
    "    d3 = h - y\n",
    "    d2 = np.dot(d3,theta2[:,1:]) * gra_sigmoid(z2)\n",
    "    D2 = (d3.T @ a2) / len(X)\n",
    "    D1 = (d2.T @ a1)/ len(X)\n",
    "    return serialize(D1,D2)"
   ]
  },
  {
   "cell_type": "markdown",
   "id": "7f0af27b",
   "metadata": {},
   "source": [
    "### 6.2 带正则化的梯度"
   ]
  },
  {
   "cell_type": "code",
   "execution_count": 30,
   "id": "3fb29a3e",
   "metadata": {},
   "outputs": [],
   "source": [
    "#在计算梯度的基础上，将正则化惩罚项加到梯度中，用于在训练神经网络时进行参数更新\n",
    "def reg_gradient(theta_serialize,X,y,lamda):\n",
    "    D = gradient(theta_serialize,X,y)\n",
    "    D1,D2 = deserialize(D)\n",
    "    theta1,theta2 = deserialize(theta_serialize)\n",
    "    D1[:,1:] = D1[:,1:] + theta1[:,1:]*lamda / len(X)\n",
    "    D2[:,1:] = D2[:,1:] + theta2[:,1:]*lamda / len(X)\n",
    "    return serialize(D1,D2)"
   ]
  },
  {
   "cell_type": "markdown",
   "id": "0c562d18",
   "metadata": {},
   "source": [
    "## 7.神经网络优化"
   ]
  },
  {
   "cell_type": "code",
   "execution_count": 31,
   "id": "38bfac1b",
   "metadata": {},
   "outputs": [],
   "source": [
    "from scipy.optimize import minimize\n",
    "def nn_training(X,y):\n",
    "    #生成一个大小为 10285 的随机初始参数矩阵 init_theta，包括theta1和theta2\n",
    "    init_theta = np.random.uniform(-0.5,0.5,10285)\n",
    "    #损失函数是通过 fun=cost 参数指定的，初始参数是 x0=init_theta，并传入了参数矩阵 X 和 y。\n",
    "    #这里使用的优化方法是 method='TNC'，即使用截断牛顿法进行优化。梯度是通过参数 jac=gradient 指定的，即使用 gradient 函数来计算梯度。\n",
    "    #还通过 options={'maxiter':300} 指定了最大迭代次数为 300。\n",
    "    res = minimize(fun=cost,x0=init_theta,args=(X,y),method='TNC',jac = gradient,options={'maxiter':300})\n",
    "    #带正则化的优化参数\n",
    "    #res = minimize(fun=cost,x0=init_theta,args=(X,y,lamda),method='TNC',jac = reg_gradient,options={'maxiter':300})\n",
    "    return res"
   ]
  },
  {
   "cell_type": "code",
   "execution_count": 32,
   "id": "12e9db22",
   "metadata": {},
   "outputs": [
    {
     "name": "stderr",
     "output_type": "stream",
     "text": [
      "C:\\Users\\10751\\AppData\\Local\\Temp\\ipykernel_24156\\1331871398.py:4: DeprecationWarning: 'maxiter' has been deprecated in favor of 'maxfun' and will be removed in SciPy 1.11.0.\n",
      "  res = minimize(fun=cost,x0=init_theta,args=(X,y),method='TNC',jac = gradient,options={'maxiter':300})\n",
      "C:\\Users\\10751\\AppData\\Local\\Temp\\ipykernel_24156\\1769091096.py:3: RuntimeWarning: divide by zero encountered in log\n",
      "  J = -np.sum(y*np.log(h) + (1-y)*np.log(1-h))/len(X)\n",
      "C:\\Users\\10751\\AppData\\Local\\Temp\\ipykernel_24156\\1769091096.py:3: RuntimeWarning: invalid value encountered in multiply\n",
      "  J = -np.sum(y*np.log(h) + (1-y)*np.log(1-h))/len(X)\n"
     ]
    }
   ],
   "source": [
    "res = nn_training(X,y)"
   ]
  },
  {
   "cell_type": "code",
   "execution_count": 33,
   "id": "68c427a4",
   "metadata": {},
   "outputs": [],
   "source": [
    "#将变量 data 中的 y 数据进行了重塑，将其从形状为 (5000, 1) 的二维数组调整为形状为 (5000,) 的一维数组。\n",
    "raw_y = data['y'].reshape(5000,)"
   ]
  },
  {
   "cell_type": "code",
   "execution_count": 36,
   "id": "84bb3b10",
   "metadata": {},
   "outputs": [
    {
     "data": {
      "text/plain": [
       "array([10, 10, 10, ...,  9,  9,  9], dtype=uint8)"
      ]
     },
     "execution_count": 36,
     "metadata": {},
     "output_type": "execute_result"
    }
   ],
   "source": [
    "raw_y"
   ]
  },
  {
   "cell_type": "code",
   "execution_count": 34,
   "id": "0ba77c56",
   "metadata": {},
   "outputs": [],
   "source": [
    "_,_,_,_,h = feed_forward(res.x,X)\n",
    "#使用 np.argmax 函数对激活值 h 进行按行最大值索引\n",
    "#即找到每个样本预测的类别。通过指定 axis=1 参数，可以在每行内进行最大值索引。\n",
    "#得到的索引结果范围是 [0, 9]，因此需要加 1 以使其范围变为 [1, 10]，这是因为正类标签从 1 开始。\n",
    "y_pred = np.argmax(h,axis = 1)+1\n",
    "acc = np.mean(y_pred == raw_y)"
   ]
  },
  {
   "cell_type": "code",
   "execution_count": 38,
   "id": "bf9aef17",
   "metadata": {},
   "outputs": [
    {
     "data": {
      "text/plain": [
       "array([[5.03374402e-09, 1.28701091e-05, 1.04146470e-08, ...,\n",
       "        4.30268436e-08, 3.05354341e-04, 9.99962430e-01],\n",
       "       [8.28334667e-09, 9.40329483e-07, 8.33003646e-09, ...,\n",
       "        3.58715153e-07, 6.94396576e-03, 9.99962856e-01],\n",
       "       [1.47154323e-12, 1.80831336e-06, 4.71633184e-06, ...,\n",
       "        5.20559159e-04, 1.22239854e-04, 9.99409900e-01],\n",
       "       ...,\n",
       "       [2.53401226e-03, 8.25042178e-07, 2.76002977e-03, ...,\n",
       "        1.88425133e-04, 9.85755903e-01, 2.79650045e-12],\n",
       "       [8.37094365e-05, 3.52639190e-09, 9.06311183e-09, ...,\n",
       "        5.24338694e-06, 9.99992590e-01, 1.17266451e-07],\n",
       "       [2.03773536e-07, 2.47672636e-08, 3.83050134e-11, ...,\n",
       "        9.33426844e-09, 9.54382854e-01, 7.48835964e-02]])"
      ]
     },
     "execution_count": 38,
     "metadata": {},
     "output_type": "execute_result"
    }
   ],
   "source": [
    "h"
   ]
  },
  {
   "cell_type": "code",
   "execution_count": 37,
   "id": "cb5b3aee",
   "metadata": {},
   "outputs": [
    {
     "data": {
      "text/plain": [
       "array([10, 10, 10, ...,  9,  9,  9], dtype=int64)"
      ]
     },
     "execution_count": 37,
     "metadata": {},
     "output_type": "execute_result"
    }
   ],
   "source": [
    "y_pred"
   ]
  },
  {
   "cell_type": "code",
   "execution_count": 35,
   "id": "f2fc08c5",
   "metadata": {},
   "outputs": [
    {
     "data": {
      "text/plain": [
       "0.9984"
      ]
     },
     "execution_count": 35,
     "metadata": {},
     "output_type": "execute_result"
    }
   ],
   "source": [
    "acc"
   ]
  }
 ],
 "metadata": {
  "kernelspec": {
   "display_name": "Python 3 (ipykernel)",
   "language": "python",
   "name": "python3"
  },
  "language_info": {
   "codemirror_mode": {
    "name": "ipython",
    "version": 3
   },
   "file_extension": ".py",
   "mimetype": "text/x-python",
   "name": "python",
   "nbconvert_exporter": "python",
   "pygments_lexer": "ipython3",
   "version": "3.8.17"
  }
 },
 "nbformat": 4,
 "nbformat_minor": 5
}
